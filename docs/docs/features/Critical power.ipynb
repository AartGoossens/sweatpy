{
 "cells": [
  {
   "cell_type": "markdown",
   "metadata": {},
   "source": [
    "*Sweatpy* has built-in classes and functions for critical power modelling (or *power duration modelling* in more general terms)."
   ]
  },
  {
   "cell_type": "markdown",
   "metadata": {},
   "source": [
    "## Critical power model fitting\n",
    "\n",
    "Sweatpy has a `CriticalPowerRegressor` class that helps you fit power data to a critical power (\"cp\") model.\n",
    "The supported models are:\n",
    "\n",
    "- 2 parameter critical power model. Parameters: CP and W'.\n",
    "- 3 parameter critical power model. Parameters: CP, W' and P<sub>max</sub>.\n",
    "\n",
    "The `CriticalPowerRegressor` follows the [sklearn API guidelines](https://scikit-learn.org/stable/developers/develop.html) for estimators/regressors to provide a familiar interface for data scientists.\n",
    "\n",
    "Usage:"
   ]
  },
  {
   "cell_type": "code",
   "execution_count": 8,
   "metadata": {},
   "outputs": [
    {
     "name": "stderr",
     "output_type": "stream",
     "text": [
      "/usr/local/lib/python3.8/site-packages/scipy/optimize/minpack.py:807: OptimizeWarning: Covariance of the parameters could not be estimated\n",
      "  warnings.warn('Covariance of the parameters could not be estimated',\n"
     ]
    }
   ],
   "source": [
    "import numpy as np\n",
    "import sweat\n",
    "\n",
    "durations = [5, 60, 300, 1200] # Durations in seconds\n",
    "power = [1300, 600, 330, 290]\n",
    "# Like all sklearn estimators, the regressor expects a 2 dimensional array of features\n",
    "X = sweat.array_1d_to_2d(durations)\n",
    "y = power\n",
    "\n",
    "cpreg = sweat.CriticalPowerRegressor()  # By default the 2 parameter model is used\n",
    "cpreg.fit(X, y);"
   ]
  },
  {
   "cell_type": "markdown",
   "metadata": {},
   "source": [
    "The fitted parametes are then available as attributes on the regressor:"
   ]
  },
  {
   "cell_type": "code",
   "execution_count": 10,
   "metadata": {},
   "outputs": [
    {
     "name": "stdout",
     "output_type": "stream",
     "text": [
      "CP: 370.2118107361753\n",
      "W': 4705.597395915472\n"
     ]
    }
   ],
   "source": [
    "print(f\"CP: {cpreg.cp_}\")\n",
    "print(f\"W': {cpreg.w_prime_}\")"
   ]
  },
  {
   "cell_type": "markdown",
   "metadata": {},
   "source": [
    "To predict power for specific durations using the fitted model:"
   ]
  },
  {
   "cell_type": "code",
   "execution_count": 12,
   "metadata": {},
   "outputs": [
    {
     "name": "stdout",
     "output_type": "stream",
     "text": [
      "Predicted power values: [527.06505727 378.05447306 371.51892112]\n"
     ]
    }
   ],
   "source": [
    "# Again, the regressor expects a 2 dimensional array of features.\n",
    "X = sweat.array_1d_to_2d([30, 600, 3600])\n",
    "\n",
    "print(f\"Predicted power values: {cpreg.predict(X)}\")"
   ]
  },
  {
   "cell_type": "markdown",
   "metadata": {},
   "source": [
    "3 parameter model usage:"
   ]
  },
  {
   "cell_type": "code",
   "execution_count": 13,
   "metadata": {},
   "outputs": [
    {
     "name": "stdout",
     "output_type": "stream",
     "text": [
      "CP: 257.3956711062305\n",
      "W': 27622.25611757151\n",
      "P_max: 1542.9905901539807\n",
      "Predicted power values: [793.89629791 301.84117329 265.02299766]\n"
     ]
    }
   ],
   "source": [
    "import numpy as np\n",
    "import sweat\n",
    "\n",
    "# Durations in seconds\n",
    "durations = [5., 60., 300., 1200.]\n",
    "power = [1300., 600., 330., 290.]\n",
    "\n",
    "# Like all sklearn estimators, the regressor expects a 2 dimensional array of features.\n",
    "X = sweat.array_1d_to_2d(durations)\n",
    "\n",
    "\n",
    "y = power\n",
    "\n",
    "cpreg = sweat.CriticalPowerRegressor(model=\"3 param\")\n",
    "cpreg.fit(X, y)\n",
    "\n",
    "print(f\"CP: {cpreg.cp_}\")\n",
    "print(f\"W': {cpreg.w_prime_}\")\n",
    "print(f\"P_max: {cpreg.p_max_}\")\n",
    "\n",
    "# Durations in seconds\n",
    "durations = [30, 600, 3600]\n",
    "# Again, the regressor expects a 2 dimensional array of features.\n",
    "X = sweat.array_1d_to_2d(durations)\n",
    "\n",
    "print(f\"Predicted power values: {cpreg.predict(X)}\")"
   ]
  },
  {
   "cell_type": "markdown",
   "metadata": {},
   "source": [
    "## W'<sub>balance</sub>"
   ]
  },
  {
   "cell_type": "markdown",
   "metadata": {},
   "source": [
    "When the model coefficients `CP` and `W'` of the 2 parameter cp model (see above) are known, you can model the W'<sub>balance</sub>.\n",
    "\n",
    "Usage:"
   ]
  },
  {
   "cell_type": "code",
   "execution_count": 19,
   "metadata": {},
   "outputs": [],
   "source": [
    "import pandas as pd\n",
    "import sweat\n",
    "\n",
    "# First create an artificial workout\n",
    "artificial_power = 60*[100] + 60*[400] + 30*[100] + 60*[400] + 60*[100]\n",
    "datetime = pd.to_datetime(list(range(len(artificial_power))), unit=\"s\")\n",
    "data = pd.DataFrame(dict(power=artificial_power), index=datetime)\n",
    "\n",
    "# Define the model coefficients\n",
    "cp = 300\n",
    "w_prime = 20000\n",
    "\n",
    "data[\"W'balance\"] = sweat.w_prime_balance(data[\"power\"], cp=cp, w_prime=w_prime).to_list()"
   ]
  },
  {
   "cell_type": "code",
   "execution_count": 24,
   "metadata": {},
   "outputs": [
    {
     "data": {
      "image/png": "[encoded data removed]",
      "text/plain": [
       "<Figure size 432x288 with 1 Axes>"
      ]
     },
     "metadata": {
      "needs_background": "light"
     },
     "output_type": "display_data"
    }
   ],
   "source": [
    "data[\"power\"].plot();"
   ]
  },
  {
   "cell_type": "code",
   "execution_count": 27,
   "metadata": {},
   "outputs": [
    {
     "data": {
      "image/png": "[encoded data removed]",
      "text/plain": [
       "<Figure size 432x288 with 1 Axes>"
      ]
     },
     "metadata": {
      "needs_background": "light"
     },
     "output_type": "display_data"
    }
   ],
   "source": [
    "data[\"W'balance\"].plot();"
   ]
  },
  {
   "cell_type": "markdown",
   "metadata": {},
   "source": [
    "By default, the Waterworth implementation of the Skiba algorithm is used. The list of available algorithms is:\n",
    "\n",
    "- waterworth\n",
    "- skiba\n",
    "- froncioni-skiba-clarke\n",
    "\n",
    "For a comparison of W'<sub>balance</sub> algorithms, read [this blog post](https://gssns.io/posts/comparison-of-wbalance-algorithms.html).\n",
    "\n",
    "To use a different algorithm than the default, pass the name of the algorithm to the `sweat.w_prime_balance()` function.\n",
    "\n",
    "Usage:"
   ]
  },
  {
   "cell_type": "code",
   "execution_count": null,
   "metadata": {
    "scrolled": true
   },
   "outputs": [],
   "source": [
    "sweat.w_prime_balance(\n",
    "    power=data[\"power\"],\n",
    "    cp=cp,\n",
    "    w_prime=w_prime,\n",
    "    algorithm=\"froncioni-skiba-clarke\")"
   ]
  }
 ],
 "metadata": {
  "kernelspec": {
   "display_name": "Python 3",
   "language": "python",
   "name": "python3"
  },
  "language_info": {
   "codemirror_mode": {
    "name": "ipython",
    "version": 3
   },
   "file_extension": ".py",
   "mimetype": "text/x-python",
   "name": "python",
   "nbconvert_exporter": "python",
   "pygments_lexer": "ipython3",
   "version": "3.8.2"
  }
 },
 "nbformat": 4,
 "nbformat_minor": 4
}
